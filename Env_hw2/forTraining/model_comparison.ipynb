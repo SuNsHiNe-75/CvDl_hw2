{
 "cells": [
  {
   "cell_type": "markdown",
   "metadata": {},
   "source": [
    "<h2><b>Model Comparison Image Generation</h2>\n",
    "<h4><b>Generating Validation Loader</b></h4>"
   ]
  },
  {
   "cell_type": "code",
   "execution_count": 10,
   "metadata": {},
   "outputs": [],
   "source": [
    "import torch\n",
    "import torchvision\n",
    "from torchvision import datasets, transforms\n",
    "\n",
    "test_dir = '.\\\\dataset\\\\validation_dataset'\n",
    "\n",
    "test_transforms = transforms.Compose(   [   transforms.Resize((224,224)),\n",
    "                                            transforms.ToTensor(),\n",
    "                                            torchvision.transforms.Normalize(\n",
    "                                            mean=[0.485, 0.456, 0.406],\n",
    "                                            std=[0.229, 0.224, 0.225],\n",
    "                                            ),\n",
    "                                        ]   )\n",
    "\n",
    "RE_test_transforms = transforms.Compose(   [   transforms.Resize((224,224)),\n",
    "                                            transforms.ToTensor(),\n",
    "                                            torchvision.transforms.Normalize(\n",
    "                                            mean=[0.485, 0.456, 0.406],\n",
    "                                            std=[0.229, 0.224, 0.225],\n",
    "                                            ),\n",
    "                                            transforms.RandomErasing()\n",
    "                                        ]   )\n",
    "\n",
    "test_data = datasets.ImageFolder(test_dir,transform=test_transforms)\n",
    "RE_test_data = datasets.ImageFolder(test_dir,transform=RE_test_transforms)\n",
    "\n",
    "\n",
    "testloader = torch.utils.data.DataLoader(test_data, shuffle = True, batch_size=1)\n",
    "RE_testloader = torch.utils.data.DataLoader(RE_test_data, shuffle = True, batch_size=1)"
   ]
  },
  {
   "cell_type": "markdown",
   "metadata": {},
   "source": [
    "<h4><b>Normal Model Prediction"
   ]
  },
  {
   "cell_type": "code",
   "execution_count": 11,
   "metadata": {},
   "outputs": [
    {
     "name": "stdout",
     "output_type": "stream",
     "text": [
      "1.0\n",
      "1.0\n"
     ]
    }
   ],
   "source": [
    "resnet50_model = torch.load('./model.pt')\n",
    "device = torch.device('cuda' if torch.cuda.is_available() else 'cpu')\n",
    "\n",
    "dataiter = iter(testloader)\n",
    "images, labels = next(dataiter)\n",
    "images, labels = images.to(device), labels.to(device)\n",
    "print(labels.float().item())\n",
    "\n",
    "output = resnet50_model(images)\n",
    "\n",
    "threshold = 0.5\n",
    "predictions = (output > threshold).float()\n",
    "\n",
    "print(predictions.item())\n",
    "\n"
   ]
  },
  {
   "cell_type": "code",
   "execution_count": 12,
   "metadata": {},
   "outputs": [
    {
     "name": "stdout",
     "output_type": "stream",
     "text": [
      "1212 1800\n",
      "Accuracy of the network on the test images: 67.33333333333333 %\n"
     ]
    }
   ],
   "source": [
    "resnet50_model = torch.load('./model_40.pt')\n",
    "device = torch.device('cuda' if torch.cuda.is_available() else 'cpu')\n",
    "\n",
    "correct = 0\n",
    "total = 0\n",
    "# since we're not training, we don't need to calculate the gradients for our outputs\n",
    "with torch.no_grad():\n",
    "    for data in testloader:\n",
    "        images, labels = data\n",
    "        images, labels = images.to(device), labels.to(device)\n",
    "        # calculate outputs by running images through the network\n",
    "        outputs = resnet50_model(images)\n",
    "        predictions = (output > threshold).float().item()\n",
    "        total += 1\n",
    "        if predictions == labels.float().item():\n",
    "            correct += 1\n",
    "\n",
    "print(correct, total)\n",
    "print(f'Accuracy of the network on the test images: {100 * correct / total} %')"
   ]
  },
  {
   "cell_type": "markdown",
   "metadata": {},
   "source": [
    "<h4><b>Random Erasing Model Prediction"
   ]
  },
  {
   "cell_type": "code",
   "execution_count": 13,
   "metadata": {},
   "outputs": [
    {
     "name": "stdout",
     "output_type": "stream",
     "text": [
      "1212 1800\n",
      "Accuracy of the network on the test images: 67.33333333333333 %\n"
     ]
    }
   ],
   "source": [
    "RE_resnet50_model = torch.load('./RE_model.pt')\n",
    "device = torch.device('cuda' if torch.cuda.is_available() else 'cpu')\n",
    "\n",
    "RE_correct = 0\n",
    "RE_total = 0\n",
    "# since we're not training, we don't need to calculate the gradients for our outputs\n",
    "with torch.no_grad():\n",
    "    for data in RE_testloader:\n",
    "        images, labels = data\n",
    "        images, labels = images.to(device), labels.to(device)\n",
    "        # calculate outputs by running images through the network\n",
    "        outputs = RE_resnet50_model(images)\n",
    "        predictions = (output > threshold).float().item()\n",
    "        RE_total += 1\n",
    "        if predictions == labels.float().item():\n",
    "            RE_correct += 1\n",
    "\n",
    "print(correct, total)\n",
    "print(f'Accuracy of the network on the test images: {100 * RE_correct / RE_total} %')"
   ]
  },
  {
   "cell_type": "markdown",
   "metadata": {},
   "source": [
    "<h4><b>Making a Comparison Graph"
   ]
  },
  {
   "cell_type": "code",
   "execution_count": 14,
   "metadata": {},
   "outputs": [
    {
     "data": {
      "image/png": "[encoded data removed]",
      "text/plain": [
       "<Figure size 640x480 with 1 Axes>"
      ]
     },
     "metadata": {},
     "output_type": "display_data"
    }
   ],
   "source": [
    "import matplotlib.pyplot as plt\n",
    "import numpy as np\n",
    "\n",
    "left = np.array([\"Without Random Erasing\", \"With Random Erasing\"])\n",
    "height = np.array([round(100 * correct / total, 2), round(100 * RE_correct / RE_total,2)])\n",
    "\n",
    "# show the number on the bar\n",
    "for a, b, i in zip(left, height, range(len(left))):\n",
    "    plt.text(a, b, height[i], ha='center', fontsize=10)\n",
    "\n",
    "plt.bar(left, height)\n",
    "\n",
    "plt.title(\"Accuracy Comparison\")\n",
    "plt.ylabel(\"Accuracy(%)\")\n",
    "\n",
    "plt.savefig(\"model_comparison.png\")"
   ]
  }
 ],
 "metadata": {
  "kernelspec": {
   "display_name": "Python 3",
   "language": "python",
   "name": "python3"
  },
  "language_info": {
   "codemirror_mode": {
    "name": "ipython",
    "version": 3
   },
   "file_extension": ".py",
   "mimetype": "text/x-python",
   "name": "python",
   "nbconvert_exporter": "python",
   "pygments_lexer": "ipython3",
   "version": "3.11.7"
  }
 },
 "nbformat": 4,
 "nbformat_minor": 2
}
